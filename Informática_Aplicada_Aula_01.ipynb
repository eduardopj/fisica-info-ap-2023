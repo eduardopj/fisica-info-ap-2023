{
  "nbformat": 4,
  "nbformat_minor": 0,
  "metadata": {
    "colab": {
      "provenance": [],
      "authorship_tag": "ABX9TyMz61RUDkheM4IORa3pSsny",
      "include_colab_link": true
    },
    "kernelspec": {
      "name": "python3",
      "display_name": "Python 3"
    },
    "language_info": {
      "name": "python"
    }
  },
  "cells": [
    {
      "cell_type": "markdown",
      "metadata": {
        "id": "view-in-github",
        "colab_type": "text"
      },
      "source": [
        "<a href=\"https://colab.research.google.com/github/eduardopj/fisica-info-ap-2023/blob/main/Inform%C3%A1tica_Aplicada_Aula_01.ipynb\" target=\"_parent\"><img src=\"https://colab.research.google.com/assets/colab-badge.svg\" alt=\"Open In Colab\"/></a>"
      ]
    },
    {
      "cell_type": "code",
      "source": [],
      "metadata": {
        "id": "2eC46ZnBEJ17"
      },
      "execution_count": 1,
      "outputs": []
    },
    {
      "cell_type": "markdown",
      "source": [
        "# **Apresentando a ferramenta**\n",
        "O **Google Colabs** é uma ferramenta do google similar ao *Jupyter*, que é utilizado para processar códigos em python. Os dois processam códigos diretamente no navegador, o Colabs, diferentemente do *Jupyter*, não precisa de nenhuma aplicação instalada no computador local, basta ter uma conta no google.\n"
      ],
      "metadata": {
        "id": "g9DNc2sMET_w"
      }
    },
    {
      "cell_type": "code",
      "source": [
        "3 + 2"
      ],
      "metadata": {
        "colab": {
          "base_uri": "https://localhost:8080/"
        },
        "id": "7c7SMWvdFJ5u",
        "outputId": "28ab264e-e605-40f2-be84-54b5e52e9137"
      },
      "execution_count": 2,
      "outputs": [
        {
          "output_type": "execute_result",
          "data": {
            "text/plain": [
              "5"
            ]
          },
          "metadata": {},
          "execution_count": 2
        }
      ]
    },
    {
      "cell_type": "code",
      "source": [
        "a = 'Flamengo'"
      ],
      "metadata": {
        "id": "QTqxk-rTGlCR"
      },
      "execution_count": 4,
      "outputs": []
    },
    {
      "cell_type": "code",
      "source": [
        "type(a)"
      ],
      "metadata": {
        "colab": {
          "base_uri": "https://localhost:8080/"
        },
        "id": "8GKkEiOqGsCB",
        "outputId": "7de53658-56ab-4127-bd0d-2ff7d6204ab7"
      },
      "execution_count": 6,
      "outputs": [
        {
          "output_type": "execute_result",
          "data": {
            "text/plain": [
              "str"
            ]
          },
          "metadata": {},
          "execution_count": 6
        }
      ]
    },
    {
      "cell_type": "code",
      "source": [
        "b = 8"
      ],
      "metadata": {
        "id": "CkXfQwv9G1FF"
      },
      "execution_count": 7,
      "outputs": []
    },
    {
      "cell_type": "code",
      "source": [
        "type(b)"
      ],
      "metadata": {
        "colab": {
          "base_uri": "https://localhost:8080/"
        },
        "id": "QyahrGLAG509",
        "outputId": "584eca71-5010-4f39-cf94-785301be5245"
      },
      "execution_count": 8,
      "outputs": [
        {
          "output_type": "execute_result",
          "data": {
            "text/plain": [
              "int"
            ]
          },
          "metadata": {},
          "execution_count": 8
        }
      ]
    },
    {
      "cell_type": "code",
      "source": [
        "print(\"O\",a,\"possui \",b,\" títulos do campeonato Brasileiro\")"
      ],
      "metadata": {
        "colab": {
          "base_uri": "https://localhost:8080/"
        },
        "id": "OfD3HzONHKKV",
        "outputId": "56500ae5-0c56-4dbb-a291-fd8e4e3f2fcf"
      },
      "execution_count": 13,
      "outputs": [
        {
          "output_type": "stream",
          "name": "stdout",
          "text": [
            "O Flamengo possui  8  títulos do campeonato Brasileiro\n"
          ]
        }
      ]
    },
    {
      "cell_type": "code",
      "source": [
        "c = \" Maior \""
      ],
      "metadata": {
        "id": "-q7AEkYHICam"
      },
      "execution_count": 19,
      "outputs": []
    },
    {
      "cell_type": "code",
      "source": [
        "c + a"
      ],
      "metadata": {
        "colab": {
          "base_uri": "https://localhost:8080/",
          "height": 36
        },
        "id": "NLBWKZ5eIFQv",
        "outputId": "dbb161df-682d-4b55-f1ba-e08fff8fa8e4"
      },
      "execution_count": 29,
      "outputs": [
        {
          "output_type": "execute_result",
          "data": {
            "text/plain": [
              "' Maior Flamengo'"
            ],
            "application/vnd.google.colaboratory.intrinsic+json": {
              "type": "string"
            }
          },
          "metadata": {},
          "execution_count": 29
        }
      ]
    },
    {
      "cell_type": "markdown",
      "source": [
        "# **Exemplo de algoritmos**\n",
        "Variáveis:\n",
        "```\n",
        "#\n",
        "a = 6\n",
        "b = 7\n",
        "c = \"Um texto qualquer\"\n",
        "vet = array([4, 8, 20, 32])\n",
        "```\n",
        "\n",
        "\n"
      ],
      "metadata": {
        "id": "jln2p-1VOxL1"
      }
    },
    {
      "cell_type": "markdown",
      "source": [
        "# **Estruturas de decisão**\n",
        "Uma estrutura de decisão é responsável por fazer uma verificar se uma condição é verdadeira ou não.\n",
        "# **IF**\n",
        "O IF nada mais é que o SE como utilizado no portugol, ou seja, se a condição solicitada for verdadeira, faça algo.\n",
        "Exemplo:\n",
        "Será apresentado um algoritmo que leia dois valores e apresente o maior valor entre eles\n"
      ],
      "metadata": {
        "id": "LvrS3528Q5kD"
      }
    },
    {
      "cell_type": "code",
      "source": [
        "n1 = int(input(\"Primeiro valor: \"))\n",
        "n2 = int(input(\"Segundo valor: \"))\n",
        "if n1 > n2:\n",
        "  print(\"O primeiro valor é maior\")\n",
        "if n2 > n1:\n",
        "  print(\"O segundo valor é maior\")\n",
        "else:\n",
        "  print(\"Valores iguais\")"
      ],
      "metadata": {
        "colab": {
          "base_uri": "https://localhost:8080/"
        },
        "id": "qMs-U0NASP5p",
        "outputId": "800e6878-0e4d-4dd3-b5fc-f7ce5e6ba363"
      },
      "execution_count": 32,
      "outputs": [
        {
          "output_type": "stream",
          "name": "stdout",
          "text": [
            "Primeiro valor: 15\n",
            "Segundo valor: 15\n",
            "Valores iguais\n"
          ]
        }
      ]
    },
    {
      "cell_type": "code",
      "source": [],
      "metadata": {
        "id": "sdupt-gvTACS"
      },
      "execution_count": null,
      "outputs": []
    }
  ]
}